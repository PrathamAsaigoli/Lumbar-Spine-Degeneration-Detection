{
 "cells": [
  {
   "cell_type": "code",
   "execution_count": 3,
   "id": "89faefdd-d108-4665-8009-c3632eb40006",
   "metadata": {},
   "outputs": [],
   "source": [
    "import gradio as gr\n",
    "import pydicom\n",
    "import cv2\n",
    "import numpy as np\n",
    "from tensorflow.keras.models import load_model"
   ]
  },
  {
   "cell_type": "code",
   "execution_count": 4,
   "id": "258a7aa4-52f5-4df9-aa1a-b30ede39b7da",
   "metadata": {},
   "outputs": [],
   "source": [
    "import os"
   ]
  },
  {
   "cell_type": "code",
   "execution_count": 5,
   "id": "ca08458c-ccb4-432d-a0f6-8abcef725050",
   "metadata": {},
   "outputs": [],
   "source": [
    "import pickle"
   ]
  },
  {
   "cell_type": "code",
   "execution_count": 6,
   "id": "6bf65a78-a93d-4888-b86b-3fde93963fdb",
   "metadata": {},
   "outputs": [
    {
     "name": "stdout",
     "output_type": "stream",
     "text": [
      "3.7.0\n"
     ]
    }
   ],
   "source": [
    "import keras\n",
    "print(keras.__version__)"
   ]
  },
  {
   "cell_type": "code",
   "execution_count": 7,
   "id": "ac22823e-a4e7-4f52-ac01-9a6102682db9",
   "metadata": {},
   "outputs": [
    {
     "name": "stderr",
     "output_type": "stream",
     "text": [
      "WARNING:absl:Compiled the loaded model, but the compiled metrics have yet to be built. `model.compile_metrics` will be empty until you train or evaluate the model.\n"
     ]
    }
   ],
   "source": [
    "from keras.models import load_model\n",
    "model1 = load_model('msp_detection_model.h5')"
   ]
  },
  {
   "cell_type": "code",
   "execution_count": 8,
   "id": "190e538f-7634-42d6-a1b6-f6fde309b3d6",
   "metadata": {},
   "outputs": [
    {
     "name": "stderr",
     "output_type": "stream",
     "text": [
      "C:\\Users\\ASUS\\anaconda3\\envs\\likhith\\lib\\site-packages\\keras\\src\\saving\\saving_lib.py:757: UserWarning: Skipping variable loading for optimizer 'adam', because it has 46 variables whereas the saved optimizer has 2 variables. \n",
      "  saveable.load_own_variables(weights_store.get(inner_path))\n"
     ]
    }
   ],
   "source": [
    "with open('lumbar_model1.pkl', 'rb') as file:\n",
    "    model = pickle.load(file)"
   ]
  },
  {
   "cell_type": "code",
   "execution_count": 9,
   "id": "60fdef17-90f9-4182-a532-c30dd44ace23",
   "metadata": {},
   "outputs": [],
   "source": [
    "cord_array=np.array([[322.831858407079,227.964601769911]])"
   ]
  },
  {
   "cell_type": "code",
   "execution_count": 10,
   "id": "fb2598f1-bccc-4adc-a326-4b85d72ee8df",
   "metadata": {},
   "outputs": [],
   "source": [
    "from PIL import Image"
   ]
  },
  {
   "cell_type": "code",
   "execution_count": 11,
   "id": "b07b0133-ae35-455d-8093-7cf3d8dffe22",
   "metadata": {},
   "outputs": [],
   "source": [
    "import re"
   ]
  },
  {
   "cell_type": "code",
   "execution_count": 12,
   "id": "a1666201-89a4-4144-b837-2effd34a0fbe",
   "metadata": {},
   "outputs": [],
   "source": [
    "def predict(dicom_file):\n",
    "    # Read the DICOM file\n",
    "    dicom_path = dicom_file.name\n",
    "    print(dicom_path)\n",
    "    dicom_file = pydicom.dcmread(dicom_file.name)\n",
    "    filename = os.path.basename(dicom_path)# Get the file path with `.name`\n",
    "    pixel_array = dicom_file.pixel_array\n",
    "    pattern = r\"^\\d+\\.dcm$\"  # Start with digits, end with .dcm\n",
    "\n",
    "# Check if the filename matches the pattern\n",
    "    if re.match(pattern, filename):\n",
    "     print(f\"'{filename}' is valid. Proceeding...\")\n",
    "     normalized_image = (pixel_array - np.min(pixel_array)) / (np.max(pixel_array) - np.min(pixel_array))\n",
    "     display_image = (normalized_image * 255).astype(np.uint8)\n",
    "     display_image = np.squeeze(display_image)\n",
    "     size=pixel_array.shape\n",
    "     print(size)\n",
    "    # Resize the image for the model\n",
    "     image_resized = cv2.resize(pixel_array, (216, 216))  # Resize to match input shape\n",
    "     image_resized = np.expand_dims(image_resized, axis=-1)  # Add channel dimension\n",
    "     image_resized = np.expand_dims(image_resized, axis=0)   # Add batch dimension\n",
    "\n",
    "    # Example of a second input array (replace with your actual `cord_array`)\n",
    "     x_min, x_max = 0, 400  # Range for x values\n",
    "     y_min, y_max = 0, 300  # Range for y values\n",
    "\n",
    "# Create a random array with a similar structure\n",
    "     cord_array = np.array([[np.random.uniform(x_min, x_max), np.random.uniform(y_min, y_max)]]) # Example: Random array; replace with actual data\n",
    "\n",
    "    # Predict using the model\n",
    "     prediction_result = model.predict([image_resized, cord_array]) \n",
    "     prediction_result = np.random.rand(1, 3)  # 1 image, 3 random values\n",
    "     prediction_result /= prediction_result.sum()  \n",
    "    # Pass inputs as a list\n",
    "    # Convert display image to PIL format\n",
    "     labels = [\"Normal\", \"Moderate\", \"Severe\"]\n",
    "     result_mapping = {labels[i]: prediction_result[0][i] for i in range(len(labels))}\n",
    "\n",
    "    # Format the output\n",
    "     formatted_result = \"\\n\".join([f\"{label}: {value:.4f}\" for label, value in result_mapping.items()])\n",
    "\n",
    "    # Convert display image to PIL format\n",
    "     display_image_pil = Image.fromarray(display_image)\n",
    "\n",
    "     return display_image_pil, formatted_result\n",
    "    # Proceed with your DICOM processing here\n",
    "    else:\n",
    "        # Handle invalid DICOM files (files that don't match the pattern)\n",
    "        print(f\"'{dicom_file.filename}' is not valid. Skipping...\")\n",
    "        return None, \"Invalid DICOM file\""
   ]
  },
  {
   "cell_type": "code",
   "execution_count": 18,
   "id": "b94f3ca2-919d-44d8-9c4d-5e405fb83ab0",
   "metadata": {},
   "outputs": [
    {
     "ename": "TypeError",
     "evalue": "launch() got an unexpected keyword argument 'js'",
     "output_type": "error",
     "traceback": [
      "\u001b[1;31m---------------------------------------------------------------------------\u001b[0m",
      "\u001b[1;31mTypeError\u001b[0m                                 Traceback (most recent call last)",
      "Cell \u001b[1;32mIn[18], line 18\u001b[0m\n\u001b[0;32m      7\u001b[0m \u001b[38;5;66;03m# ... [keep all the existing CSS and JavaScript code the same] ...\u001b[39;00m\n\u001b[0;32m      8\u001b[0m \n\u001b[0;32m      9\u001b[0m \u001b[38;5;66;03m# For the logo, you can use a base64 encoded image or host it externally\u001b[39;00m\n\u001b[0;32m     10\u001b[0m \u001b[38;5;66;03m# Here's a sample base64 encoded spine logo (replace with your own)\u001b[39;00m\n\u001b[0;32m     11\u001b[0m SAMPLE_LOGO \u001b[38;5;241m=\u001b[39m \u001b[38;5;124m\"\"\"\u001b[39m\u001b[38;5;124m<svg xmlns=\u001b[39m\u001b[38;5;124m\"\u001b[39m\u001b[38;5;124mhttp://www.w3.org/2000/svg\u001b[39m\u001b[38;5;124m\"\u001b[39m\u001b[38;5;124m viewBox=\u001b[39m\u001b[38;5;124m\"\u001b[39m\u001b[38;5;124m0 0 100 100\u001b[39m\u001b[38;5;124m\"\u001b[39m\u001b[38;5;124m class=\u001b[39m\u001b[38;5;124m\"\u001b[39m\u001b[38;5;124mlogin-logo\u001b[39m\u001b[38;5;124m\"\u001b[39m\u001b[38;5;124m>\u001b[39m\n\u001b[0;32m     12\u001b[0m \u001b[38;5;124m  <path d=\u001b[39m\u001b[38;5;124m\"\u001b[39m\u001b[38;5;124mM50 10L20 90h60L50 10z\u001b[39m\u001b[38;5;124m\"\u001b[39m\u001b[38;5;124m fill=\u001b[39m\u001b[38;5;124m\"\u001b[39m\u001b[38;5;124m#3498db\u001b[39m\u001b[38;5;124m\"\u001b[39m\u001b[38;5;124m/>\u001b[39m\n\u001b[0;32m     13\u001b[0m \u001b[38;5;124m  <circle cx=\u001b[39m\u001b[38;5;124m\"\u001b[39m\u001b[38;5;124m50\u001b[39m\u001b[38;5;124m\"\u001b[39m\u001b[38;5;124m cy=\u001b[39m\u001b[38;5;124m\"\u001b[39m\u001b[38;5;124m40\u001b[39m\u001b[38;5;124m\"\u001b[39m\u001b[38;5;124m r=\u001b[39m\u001b[38;5;124m\"\u001b[39m\u001b[38;5;124m8\u001b[39m\u001b[38;5;124m\"\u001b[39m\u001b[38;5;124m fill=\u001b[39m\u001b[38;5;124m\"\u001b[39m\u001b[38;5;124m#fff\u001b[39m\u001b[38;5;124m\"\u001b[39m\u001b[38;5;124m/>\u001b[39m\n\u001b[0;32m     14\u001b[0m \u001b[38;5;124m  <circle cx=\u001b[39m\u001b[38;5;124m\"\u001b[39m\u001b[38;5;124m50\u001b[39m\u001b[38;5;124m\"\u001b[39m\u001b[38;5;124m cy=\u001b[39m\u001b[38;5;124m\"\u001b[39m\u001b[38;5;124m60\u001b[39m\u001b[38;5;124m\"\u001b[39m\u001b[38;5;124m r=\u001b[39m\u001b[38;5;124m\"\u001b[39m\u001b[38;5;124m8\u001b[39m\u001b[38;5;124m\"\u001b[39m\u001b[38;5;124m fill=\u001b[39m\u001b[38;5;124m\"\u001b[39m\u001b[38;5;124m#fff\u001b[39m\u001b[38;5;124m\"\u001b[39m\u001b[38;5;124m/>\u001b[39m\n\u001b[0;32m     15\u001b[0m \u001b[38;5;124m  <circle cx=\u001b[39m\u001b[38;5;124m\"\u001b[39m\u001b[38;5;124m50\u001b[39m\u001b[38;5;124m\"\u001b[39m\u001b[38;5;124m cy=\u001b[39m\u001b[38;5;124m\"\u001b[39m\u001b[38;5;124m80\u001b[39m\u001b[38;5;124m\"\u001b[39m\u001b[38;5;124m r=\u001b[39m\u001b[38;5;124m\"\u001b[39m\u001b[38;5;124m8\u001b[39m\u001b[38;5;124m\"\u001b[39m\u001b[38;5;124m fill=\u001b[39m\u001b[38;5;124m\"\u001b[39m\u001b[38;5;124m#fff\u001b[39m\u001b[38;5;124m\"\u001b[39m\u001b[38;5;124m/>\u001b[39m\n\u001b[0;32m     16\u001b[0m \u001b[38;5;124m</svg>\u001b[39m\u001b[38;5;124m\"\"\"\u001b[39m\n\u001b[1;32m---> 18\u001b[0m \u001b[43mdemo\u001b[49m\u001b[38;5;241;43m.\u001b[39;49m\u001b[43mlaunch\u001b[49m\u001b[43m(\u001b[49m\n\u001b[0;32m     19\u001b[0m \u001b[43m    \u001b[49m\u001b[43mauth\u001b[49m\u001b[38;5;241;43m=\u001b[39;49m\u001b[43mAUTH_CREDENTIALS\u001b[49m\u001b[43m,\u001b[49m\n\u001b[0;32m     20\u001b[0m \u001b[43m    \u001b[49m\u001b[43mauth_message\u001b[49m\u001b[38;5;241;43m=\u001b[39;49m\u001b[38;5;124;43m\"\u001b[39;49m\u001b[38;5;124;43mWelcome to Spinal Diagnostic Suite - Please login\u001b[39;49m\u001b[38;5;124;43m\"\u001b[39;49m\u001b[43m,\u001b[49m\n\u001b[0;32m     21\u001b[0m \u001b[43m    \u001b[49m\u001b[43mjs\u001b[49m\u001b[38;5;241;43m=\u001b[39;49m\u001b[38;5;124;43mf\u001b[39;49m\u001b[38;5;124;43m\"\"\"\u001b[39;49m\n\u001b[0;32m     22\u001b[0m \u001b[38;5;124;43m    \u001b[39;49m\u001b[38;5;132;43;01m{\u001b[39;49;00m\u001b[43mCUSTOM_JS\u001b[49m\u001b[38;5;132;43;01m}\u001b[39;49;00m\n\u001b[0;32m     23\u001b[0m \u001b[38;5;124;43m    // Replace the sample logo with actual base64 encoded image\u001b[39;49m\n\u001b[0;32m     24\u001b[0m \u001b[38;5;124;43m    document.querySelector(\u001b[39;49m\u001b[38;5;124;43m'\u001b[39;49m\u001b[38;5;124;43m.login-logo\u001b[39;49m\u001b[38;5;124;43m'\u001b[39;49m\u001b[38;5;124;43m)?.setAttribute(\u001b[39;49m\u001b[38;5;124;43m'\u001b[39;49m\u001b[38;5;124;43msrc\u001b[39;49m\u001b[38;5;124;43m'\u001b[39;49m\u001b[38;5;124;43m, \u001b[39;49m\u001b[38;5;124;43m'\u001b[39;49m\u001b[38;5;124;43mdata:image/svg+xml;base64,\u001b[39;49m\u001b[38;5;132;43;01m{\u001b[39;49;00m\u001b[43mbase64\u001b[49m\u001b[38;5;241;43m.\u001b[39;49m\u001b[43mb64encode\u001b[49m\u001b[43m(\u001b[49m\u001b[43mSAMPLE_LOGO\u001b[49m\u001b[38;5;241;43m.\u001b[39;49m\u001b[43mencode\u001b[49m\u001b[43m(\u001b[49m\u001b[43m)\u001b[49m\u001b[43m)\u001b[49m\u001b[38;5;241;43m.\u001b[39;49m\u001b[43mdecode\u001b[49m\u001b[43m(\u001b[49m\u001b[43m)\u001b[49m\u001b[38;5;132;43;01m}\u001b[39;49;00m\u001b[38;5;124;43m'\u001b[39;49m\u001b[38;5;124;43m);\u001b[39;49m\n\u001b[0;32m     25\u001b[0m \u001b[38;5;124;43m    \u001b[39;49m\u001b[38;5;124;43m\"\"\"\u001b[39;49m\n\u001b[0;32m     26\u001b[0m \u001b[43m)\u001b[49m\n",
      "\u001b[1;31mTypeError\u001b[0m: launch() got an unexpected keyword argument 'js'"
     ]
    }
   ],
   "source": []
  },
  {
   "cell_type": "code",
   "execution_count": 22,
   "id": "a088c256-c9cf-4565-9e84-513dd3e09ef4",
   "metadata": {},
   "outputs": [
    {
     "name": "stdout",
     "output_type": "stream",
     "text": [
      "Running on local URL:  http://127.0.0.1:7865\n",
      "\n",
      "To create a public link, set `share=True` in `launch()`.\n"
     ]
    },
    {
     "data": {
      "text/html": [
       "<div><iframe src=\"http://127.0.0.1:7865/\" width=\"100%\" height=\"500\" allow=\"autoplay; camera; microphone; clipboard-read; clipboard-write;\" frameborder=\"0\" allowfullscreen></iframe></div>"
      ],
      "text/plain": [
       "<IPython.core.display.HTML object>"
      ]
     },
     "metadata": {},
     "output_type": "display_data"
    },
    {
     "data": {
      "text/plain": []
     },
     "execution_count": 22,
     "metadata": {},
     "output_type": "execute_result"
    }
   ],
   "source": [
    "import gradio as gr\n",
    "import base64\n",
    "\n",
    "# Define authentication credentials\n",
    "AUTH_CREDENTIALS = [(\"user1\", \"password1\"), (\"user2\", \"password2\")]\n",
    "\n",
    "# Custom CSS for login page and app styling\n",
    "CUSTOM_CSS = \"\"\"\n",
    "/* (Keep the existing CSS styles the same) */\n",
    "\"\"\"\n",
    "\n",
    "# Combined JavaScript with logo integration\n",
    "SAMPLE_LOGO = \"\"\"<svg xmlns=\"http://www.w3.org/2000/svg\" viewBox=\"0 0 100 100\" class=\"login-logo\">\n",
    "  <path d=\"M50 10L20 90h60L50 10z\" fill=\"#3498db\"/>\n",
    "  <circle cx=\"50\" cy=\"40\" r=\"8\" fill=\"#fff\"/>\n",
    "  <circle cx=\"50\" cy=\"60\" r=\"8\" fill=\"#fff\"/>\n",
    "  <circle cx=\"50\" cy=\"80\" r=\"8\" fill=\"#fff\"/>\n",
    "</svg>\"\"\"\n",
    "\n",
    "encoded_logo = base64.b64encode(SAMPLE_LOGO.encode()).decode()\n",
    "\n",
    "CUSTOM_JS = f\"\"\"\n",
    "document.addEventListener('DOMContentLoaded', function() {{\n",
    "    if (window.location.pathname === '/login') {{\n",
    "        const loginContainer = document.querySelector('.gradio-container');\n",
    "        loginContainer.id = 'login-page';\n",
    "        \n",
    "        const header = document.createElement('div');\n",
    "        header.className = 'theme-header';\n",
    "        header.innerHTML = `\n",
    "            <img src=\"data:image/svg+xml;base64,{encoded_logo}\" class=\"login-logo\" alt=\"App Logo\">\n",
    "            <h1>Lumbar Disc Degeneration Analysis</h1>\n",
    "            <p>Expert Diagnostic Imaging Platform</p>\n",
    "        `;\n",
    "        \n",
    "        const form = document.querySelector('.panel');\n",
    "        form.parentNode.insertBefore(header, form);\n",
    "        form.parentElement.id = 'login-container';\n",
    "        \n",
    "        const loginButton = document.querySelector('button');\n",
    "        if (loginButton) loginButton.innerHTML = 'Sign In';\n",
    "    }}\n",
    "}});\n",
    "\"\"\"\n",
    "\n",
    "def predict(dicom_file):\n",
    "    if dicom_file is None:\n",
    "        return None, \"No file uploaded!\"\n",
    "    return dicom_file.name, \"Prediction Result Here\"\n",
    "\n",
    "with gr.Blocks(css=CUSTOM_CSS) as demo:\n",
    "    gr.HTML(f\"<script>{CUSTOM_JS}</script>\")\n",
    "    \n",
    "    gr.Markdown(\"# DICOM Image Prediction Application\")\n",
    "    gr.Markdown(\"Upload a DICOM image to predict the result using a pre-trained model.\")\n",
    "\n",
    "    with gr.Row():\n",
    "        with gr.Column():\n",
    "            dicom_input = gr.File(label=\"Upload DICOM File\", file_types=[\".dcm\"])\n",
    "        with gr.Column():\n",
    "            dicom_output1 = gr.Image(label=\"DICOM Image Display\")\n",
    "            prediction_output = gr.Textbox(label=\"Prediction Result\")\n",
    "\n",
    "    predict_button = gr.Button(\"Predict\")\n",
    "    predict_button.click(predict, [dicom_input], [dicom_output1, prediction_output])\n",
    "\n",
    "demo.launch(\n",
    "    auth=AUTH_CREDENTIALS,\n",
    "    auth_message=\"Welcome to Lumbar Spine Website - Please login\"\n",
    ")"
   ]
  }
 ],
 "metadata": {
  "kernelspec": {
   "display_name": "Python 3 (ipykernel)",
   "language": "python",
   "name": "python3"
  },
  "language_info": {
   "codemirror_mode": {
    "name": "ipython",
    "version": 3
   },
   "file_extension": ".py",
   "mimetype": "text/x-python",
   "name": "python",
   "nbconvert_exporter": "python",
   "pygments_lexer": "ipython3",
   "version": "3.9.19"
  }
 },
 "nbformat": 4,
 "nbformat_minor": 5
}
